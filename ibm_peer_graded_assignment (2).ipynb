{
 "cells": [
  {
   "cell_type": "markdown",
   "id": "a3e776da",
   "metadata": {},
   "source": [
    "# **DATA SCIENCE : TOOLS AND ECOSYSTEM**\n"
   ]
  },
  {
   "cell_type": "markdown",
   "id": "36b4bb8d",
   "metadata": {},
   "source": [
    "***IN THIS NOTEBOOK I WILL SHOW VARIOUS DATA SCIENCE TOOLS AND SYSTEMS***"
   ]
  },
  {
   "cell_type": "markdown",
   "id": "8338122c",
   "metadata": {},
   "source": [
    "***-HERE ARE SOME EXAMPLES OF THE BEST AND MOST USED LANGUAGES FOR DATA SCIENCE:***\n",
    "1. PYTHON\n",
    "2. R\n",
    "3. JULIA\n",
    "\n"
   ]
  },
  {
   "cell_type": "markdown",
   "id": "d69cd4d4",
   "metadata": {},
   "source": [
    "***-HERE ARE SOME OF THE BEST AND MOST USED DATA SCIENCE LIBRARIES:***\n",
    "1. GGPOLT2\n",
    "2. PANDA\n",
    "3. NUMPY\n",
    "4. MATPLOTLIB\n",
    "\n"
   ]
  },
  {
   "cell_type": "markdown",
   "id": "da3e1ffc",
   "metadata": {},
   "source": [
    "***-THE FOLLOWING ARE DATA SCIENCE TOOLS:***\n",
    "|DATA SCIENCE TOOLS|\n",
    "|------------------|\n",
    "|JUPYTER NOTEBOOK|\n",
    "|RSTUDIO|\n",
    "|VS CODE|\n",
    "|ANACONDA|"
   ]
  },
  {
   "cell_type": "markdown",
   "id": "3281c5d8",
   "metadata": {},
   "source": [
    "### ***-IN THIS CODE WE WILL SHOW ARITHMETIC EXPRESSION EXAMPLE:***\n",
    "\n"
   ]
  },
  {
   "cell_type": "code",
   "execution_count": 5,
   "id": "654d81d8",
   "metadata": {},
   "outputs": [
    {
     "data": {
      "text/plain": [
       "17"
      ]
     },
     "execution_count": 5,
     "metadata": {},
     "output_type": "execute_result"
    }
   ],
   "source": [
    "#IN THIS CODE I WILL 5 WITH THE MUPTIPLICATION OF 3 AND 4\n",
    "(3*4)+5\n",
    "\n"
   ]
  },
  {
   "cell_type": "code",
   "execution_count": 6,
   "id": "cea971ef",
   "metadata": {},
   "outputs": [
    {
     "data": {
      "text/plain": [
       "3.3333333333333335"
      ]
     },
     "execution_count": 6,
     "metadata": {},
     "output_type": "execute_result"
    }
   ],
   "source": [
    "#in this code we will CONVERT 200 MIN INTO HOURS\n",
    "200/60\n",
    "\n"
   ]
  },
  {
   "cell_type": "markdown",
   "id": "e1004b08",
   "metadata": {},
   "source": [
    "# ***objectives:***\n"
   ]
  },
  {
   "cell_type": "markdown",
   "id": "2f72ce2b",
   "metadata": {},
   "source": [
    "- data science languages\n",
    "- data science libraries\n",
    "- data science tools \n",
    "- example of arithmetic expression\n",
    "- example of code to turn minutes into hours"
   ]
  },
  {
   "cell_type": "markdown",
   "id": "6f8ce3f6",
   "metadata": {},
   "source": [
    "## ***AUTHOR***\n",
    " ***NIHAL BHAMRAH***"
   ]
  },
  {
   "cell_type": "code",
   "execution_count": null,
   "id": "e1880dd9",
   "metadata": {},
   "outputs": [],
   "source": []
  }
 ],
 "metadata": {
  "kernelspec": {
   "display_name": "Python 3 (ipykernel)",
   "language": "python",
   "name": "python3"
  },
  "language_info": {
   "codemirror_mode": {
    "name": "ipython",
    "version": 3
   },
   "file_extension": ".py",
   "mimetype": "text/x-python",
   "name": "python",
   "nbconvert_exporter": "python",
   "pygments_lexer": "ipython3",
   "version": "3.11.4"
  }
 },
 "nbformat": 4,
 "nbformat_minor": 5
}
